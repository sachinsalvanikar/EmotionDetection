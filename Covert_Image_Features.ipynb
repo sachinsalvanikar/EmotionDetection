{
 "cells": [
  {
   "cell_type": "code",
   "execution_count": 1,
   "metadata": {},
   "outputs": [],
   "source": [
    "#Load Library \n",
    "import numpy as np\n",
    "import pandas as pd\n",
    "import os\n",
    "import argparse\n",
    "import errno\n",
    "import scipy.misc\n",
    "import dlib\n",
    "import cv2\n",
    "\n",
    "from skimage.feature import hog"
   ]
  },
  {
   "cell_type": "code",
   "execution_count": 2,
   "metadata": {},
   "outputs": [],
   "source": [
    "#Parameter \n",
    "image_height = 48\n",
    "image_width = 48\n",
    "window_size = 24\n",
    "window_step = 6\n",
    "SELECTED_LABELS = []\n",
    "IMAGES_PER_LABEL = 500\n",
    "OUTPUT_FOLDER = os.getcwd() + \"/Dataset/Image_Features\"\n",
    "predictor_path =os.getcwd() + \"/Dlib/shape_predictor_68_face_landmarks.dat\"\n",
    "ONE_HOT_ENCODING = True"
   ]
  },
  {
   "cell_type": "code",
   "execution_count": 3,
   "metadata": {},
   "outputs": [
    {
     "name": "stdout",
     "output_type": "stream",
     "text": [
      "Preparing\n"
     ]
    }
   ],
   "source": [
    "# loading Dlib predictor and preparing arrays:\n",
    "print( \"Preparing\")\n",
    "SELECTED_LABELS = [0,1,2,3,4,5,6]\n",
    "predictor = dlib.shape_predictor() # Dlib 68 Face Landmark\n",
    "original_labels = [0, 1, 2, 3, 4, 5, 6]\n",
    "new_labels = list(set(original_labels) & set(SELECTED_LABELS))\n",
    "nb_images_per_label = list(np.zeros(len(new_labels), 'uint8'))"
   ]
  },
  {
   "cell_type": "code",
   "execution_count": 4,
   "metadata": {},
   "outputs": [],
   "source": [
    "#For getting 68 face landmarks from the image\n",
    "def get_landmarks(image, rects):\n",
    "    # this function have been copied from http://bit.ly/2cj7Fpq\n",
    "    if len(rects) > 1:\n",
    "        raise BaseException(\"TooManyFaces\")\n",
    "    if len(rects) == 0:\n",
    "        raise BaseException(\"NoFaces\")\n",
    "    return np.matrix([[p.x, p.y] for p in predictor(image, rects[0]).parts()])"
   ]
  },
  {
   "cell_type": "code",
   "execution_count": 5,
   "metadata": {},
   "outputs": [],
   "source": [
    "#For getting Hog \n",
    "def sliding_hog_windows(image):\n",
    "    hog_windows = []\n",
    "    for y in range(0, image_height, window_step):\n",
    "        for x in range(0, image_width, window_step):\n",
    "            window = image[y:y+window_size, x:x+window_size]\n",
    "            hog_windows.extend(hog(window, orientations=8, pixels_per_cell=(8, 8),\n",
    "                                            cells_per_block=(1, 1), visualise=False))\n",
    "    return hog_windows"
   ]
  },
  {
   "cell_type": "code",
   "execution_count": 7,
   "metadata": {},
   "outputs": [],
   "source": [
    "data = pd.read_csv(os.getcwd() + \"/Dataset/fer2013.csv\")"
   ]
  },
  {
   "cell_type": "code",
   "execution_count": 9,
   "metadata": {},
   "outputs": [
    {
     "name": "stdout",
     "output_type": "stream",
     "text": [
      "converting set: Training...\n"
     ]
    },
    {
     "name": "stderr",
     "output_type": "stream",
     "text": [
      "/anaconda3/lib/python3.6/site-packages/skimage/feature/_hog.py:119: skimage_deprecation: Default value of `block_norm`==`L1` is deprecated and will be changed to `L2-Hys` in v0.15\n",
      "  'be changed to `L2-Hys` in v0.15', skimage_deprecation)\n",
      "/anaconda3/lib/python3.6/site-packages/ipykernel_launcher.py:27: DeprecationWarning: `imsave` is deprecated!\n",
      "`imsave` is deprecated in SciPy 1.0.0, and will be removed in 1.2.0.\n",
      "Use ``imageio.imwrite`` instead.\n"
     ]
    },
    {
     "name": "stdout",
     "output_type": "stream",
     "text": [
      "converting set: PublicTest...\n",
      "converting set: PrivateTest...\n"
     ]
    }
   ],
   "source": [
    "for category in data['Usage'].unique():\n",
    "    print( \"converting set: \" + category + \"...\")\n",
    "    # create folder\n",
    "    os.makedirs(OUTPUT_FOLDER + '/' + category)\n",
    "    # get samples and labels of the actual category\n",
    "    category_data = data[data['Usage'] == category]\n",
    "    samples = category_data['pixels'].values\n",
    "    labels = category_data['emotion'].values\n",
    "    \n",
    "    # get images and extract features\n",
    "    images = []\n",
    "    labels_list = []\n",
    "    landmarks = []\n",
    "    hog_features = []\n",
    "    hog_images = []\n",
    "    \n",
    "    for i in range(len(samples)):\n",
    "        image = np.fromstring(samples[i], dtype=int, sep=\" \").reshape((image_height, image_width))\n",
    "        images.append(image)\n",
    "        #scipy.misc.imsave(category + '/' + str(i) + '.jpg', image)\n",
    "        features = sliding_hog_windows(image)\n",
    "        \n",
    "        f, hog_image = hog(image, orientations=8, pixels_per_cell=(16, 16),\n",
    "        cells_per_block=(1, 1), visualise=True)\n",
    "        hog_features.append(features)\n",
    "        \n",
    "        scipy.misc.imsave('temp.jpg', image)\n",
    "        image2 = cv2.imread('temp.jpg')\n",
    "        face_rects = [dlib.rectangle(left=1, top=1, right=47, bottom=47)]\n",
    "        face_landmarks = get_landmarks(image2, face_rects)\n",
    "        landmarks.append(face_landmarks)            \n",
    "        labels_list.append(labels[i])\n",
    "    \n",
    "    np.save(OUTPUT_FOLDER + '/' + category + '/labels.npy', labels_list)\n",
    "    np.save(OUTPUT_FOLDER + '/' + category + '/landmarks.npy', landmarks)\n",
    "    np.save(OUTPUT_FOLDER + '/' + category + '/hog_features.npy', hog_features)\n",
    "    np.save(OUTPUT_FOLDER+ '/' + category + '/images.npy', images)"
   ]
  },
  {
   "cell_type": "code",
   "execution_count": null,
   "metadata": {},
   "outputs": [],
   "source": []
  }
 ],
 "metadata": {
  "kernelspec": {
   "display_name": "Python 3",
   "language": "python",
   "name": "python3"
  },
  "language_info": {
   "codemirror_mode": {
    "name": "ipython",
    "version": 3
   },
   "file_extension": ".py",
   "mimetype": "text/x-python",
   "name": "python",
   "nbconvert_exporter": "python",
   "pygments_lexer": "ipython3",
   "version": "3.6.5"
  }
 },
 "nbformat": 4,
 "nbformat_minor": 2
}

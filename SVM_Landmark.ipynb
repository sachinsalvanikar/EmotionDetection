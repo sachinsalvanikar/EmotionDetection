{
 "cells": [
  {
   "cell_type": "code",
   "execution_count": 1,
   "metadata": {},
   "outputs": [],
   "source": [
    "import numpy as np\n",
    "import os\n",
    "\n",
    "train_folder = os.getcwd() + '/Dataset/Image_Landmarks/Training'\n",
    "validation_folder = os.getcwd() + '/Dataset/Image_Landmarks/PublicTest'\n",
    "test_folder = os.getcwd() + '/Dataset/Image_Landmarks/PrivateTest'\n",
    "\n",
    "\n",
    "# load Train set \n",
    "Xtrain = np.load(train_folder + '/Training_landmarks.npy')\n",
    "Ytrain = np.load(train_folder + '/Training_labels.npy')\n",
    "    \n",
    "# load validation set \n",
    "Xvalidation = np.load(validation_folder + '/PublicTest_landmarks.npy')\n",
    "Yvalidation = np.load(validation_folder + '/PublicTest_labels.npy')\n",
    "    \n",
    "# load train set\n",
    "Xtest = np.load(test_folder + '/PrivateTest_landmarks.npy')\n",
    "Ytest = np.load(test_folder + '/PrivateTest_labels.npy')\n"
   ]
  },
  {
   "cell_type": "code",
   "execution_count": 2,
   "metadata": {},
   "outputs": [],
   "source": [
    "import time\n",
    "import argparse\n",
    "import os\n",
    "import sys\n",
    "if sys.version_info >= (3, 0):\n",
    "        import _pickle as cPickle\n",
    "else:\n",
    "        import cPickle\n",
    "from sklearn.svm import SVC\n",
    "from sklearn.metrics import accuracy_score\n",
    "\n",
    "#Hyperparameter\n",
    "\n",
    "random_state = 0\n",
    "epochs = 10000\n",
    "epochs_during_hyperopt = 500\n",
    "kernel = 'rbf'  # 'rbf', 'linear', 'poly' or 'sigmoid'\n",
    "decision_function = 'ovr'  # 'ovo' for OneVsOne and 'ovr' for OneVsRest'\n",
    "features = \"landmarks\" # \"landmarks\" or \"hog\" or \"landmarks_and_hog\"\n",
    "gamma = 'auto' # use a float number or 'auto' \n"
   ]
  },
  {
   "cell_type": "code",
   "execution_count": 3,
   "metadata": {},
   "outputs": [
    {
     "name": "stdout",
     "output_type": "stream",
     "text": [
      "building model...\n",
      "start training...\n",
      "--\n",
      "Training samples: 28709\n",
      "Validation samples: 3589\n",
      "--\n",
      "training time = 1163.4 sec\n"
     ]
    },
    {
     "name": "stderr",
     "output_type": "stream",
     "text": [
      "/usr/local/lib/python3.5/dist-packages/sklearn/svm/base.py:244: ConvergenceWarning: Solver terminated early (max_iter=10000).  Consider pre-processing your data with StandardScaler or MinMaxScaler.\n",
      "  % self.max_iter, ConvergenceWarning)\n"
     ]
    }
   ],
   "source": [
    "# Building Model\n",
    "print( \"building model...\")\n",
    "model = SVC(random_state=random_state, max_iter=epochs, kernel=kernel, decision_function_shape=decision_function, gamma=gamma)\n",
    "print( \"start training...\")\n",
    "print( \"--\")\n",
    "print( \"Training samples: {}\".format(len(Ytrain)))\n",
    "print( \"Validation samples: {}\".format(len(Yvalidation)))\n",
    "print( \"--\")\n",
    "start_time = time.time()\n",
    "model.fit(Xtrain, Ytrain)\n",
    "training_time = time.time() - start_time\n",
    "print( \"training time = {0:.1f} sec\".format(training_time))\n"
   ]
  },
  {
   "cell_type": "code",
   "execution_count": 4,
   "metadata": {},
   "outputs": [],
   "source": [
    "def evaluate(model, X, Y):\n",
    "        predicted_Y = model.predict(X)\n",
    "        accuracy = accuracy_score(Y, predicted_Y)\n",
    "        return accuracy"
   ]
  },
  {
   "cell_type": "code",
   "execution_count": 5,
   "metadata": {},
   "outputs": [
    {
     "name": "stdout",
     "output_type": "stream",
     "text": [
      "evaluating...\n",
      "  - validation accuracy = 28.9\n"
     ]
    }
   ],
   "source": [
    "print( \"evaluating...\")\n",
    "#validation_accuracy = model.evaluate(validation['X'], validation['Y'],verbose=0)\n",
    "validation_accuracy = evaluate(model,Xvalidation ,  Yvalidation)\n",
    "print( \"  - validation accuracy = {0:.1f}\".format(validation_accuracy*100))"
   ]
  },
  {
   "cell_type": "code",
   "execution_count": 6,
   "metadata": {},
   "outputs": [
    {
     "name": "stdout",
     "output_type": "stream",
     "text": [
      "  - test accuracy = 28.4\n",
      "  - evalution time = 1846.8 sec\n"
     ]
    }
   ],
   "source": [
    "test_accuracy = evaluate(model, Xtest, Ytest)\n",
    "print( \"  - test accuracy = {0:.1f}\".format(test_accuracy*100))\n",
    "print( \"  - evalution time = {0:.1f} sec\".format(time.time() - start_time))"
   ]
  },
  {
   "cell_type": "code",
   "execution_count": 7,
   "metadata": {},
   "outputs": [
    {
     "data": {
      "text/plain": [
       "['SVMModelLandmark.joblib']"
      ]
     },
     "execution_count": 7,
     "metadata": {},
     "output_type": "execute_result"
    }
   ],
   "source": [
    "# once We will save this trained model then we can reuse it on other system.\n",
    "from sklearn.externals import joblib\n",
    "\n",
    "joblib.dump(model, 'SVMModelLandmark.joblib') "
   ]
  },
  {
   "cell_type": "code",
   "execution_count": null,
   "metadata": {},
   "outputs": [],
   "source": []
  }
 ],
 "metadata": {
  "kernelspec": {
   "display_name": "Python 3",
   "language": "python",
   "name": "python3"
  },
  "language_info": {
   "codemirror_mode": {
    "name": "ipython",
    "version": 3
   },
   "file_extension": ".py",
   "mimetype": "text/x-python",
   "name": "python",
   "nbconvert_exporter": "python",
   "pygments_lexer": "ipython3",
   "version": "3.6.5"
  }
 },
 "nbformat": 4,
 "nbformat_minor": 2
}
